{
 "cells": [
  {
   "cell_type": "markdown",
   "metadata": {},
   "source": [
    "This test is invalid when the observed or expected frequencies in each category are too small.\n",
    "A typical rule is that all of the observed and expected frequencies should be at least 5.\n",
    "According to [3], the total number of samples is recommended to be greater than 13, otherwise exact tests (such as Barnard’s Exact test) should be used because they do not overreject.\n",
    "\n",
    "Also, the sum of the observed and expected frequencies must be the same for the test to be valid; chisquare raises an error if the sums do not agree within a relative tolerance of 1e-8.\n",
    "\n",
    "The default degrees of freedom, k-1, are for the case when no parameters of the distribution are estimated. If p parameters are estimated by efficient maximum likelihood then the correct degrees of freedom are k-1-p.\n",
    "If the parameters are estimated in a different way, then the dof can be between k-1-p and k-1.\n",
    "However, it is also possible that the asymptotic distribution is not chi-square, in which case this test is not appropriate."
   ]
  },
  {
   "cell_type": "code",
   "execution_count": 96,
   "metadata": {},
   "outputs": [],
   "source": [
    "import bundle.baselines.st3 as st3\n",
    "import bundle.baselines.st2 as st2\n",
    "from models.helpers import *\n",
    "import pandas as pd\n",
    "from sklearn.metrics import classification_report as report\n"
   ]
  },
  {
   "cell_type": "code",
   "execution_count": 97,
   "metadata": {},
   "outputs": [
    {
     "name": "stderr",
     "output_type": "stream",
     "text": [
      "446it [00:00, 5370.60it/s]\n",
      "90it [00:00, 6837.42it/s]\n",
      "433it [00:00, 8612.94it/s]\n",
      "83it [00:00, 8105.03it/s]\n"
     ]
    }
   ],
   "source": [
    "languages_with_train = [\"en\", \"fr\", \"ge\", \"it\", \"po\", \"ru\"]\n",
    "languages_without_train = [\"es\", \"gr\", \"ka\"]\n",
    "\n",
    "paths_st3 = get_paths('en')\n",
    "paths_st2 = get_paths('en', subtask=2)\n",
    "\n",
    "st3_train = st3.make_dataframe(paths_st3[\"train_folder\"], paths_st3[\"train_labels\"])\n",
    "\n",
    "st3_test = st3.make_dataframe(paths_st3[\"dev_folder\"], paths_st3[\"dev_labels\"])\n",
    "\n",
    "st2_train = st2.make_dataframe(paths_st2[\"train_folder\"], paths_st2[\"train_labels\"])\n",
    "    \n",
    "st2_test = st2.make_dataframe(paths_st2[\"dev_folder\"], paths_st2[\"dev_labels\"])"
   ]
  },
  {
   "cell_type": "code",
   "execution_count": 98,
   "metadata": {},
   "outputs": [
    {
     "name": "stdout",
     "output_type": "stream",
     "text": [
      "<class 'pandas.core.frame.DataFrame'>\n",
      "MultiIndex: 3760 entries, (111111111, 3) to (999001970, 13)\n",
      "Data columns (total 2 columns):\n",
      " #   Column  Non-Null Count  Dtype \n",
      "---  ------  --------------  ----- \n",
      " 0   text    3760 non-null   object\n",
      " 1   labels  3760 non-null   object\n",
      "dtypes: object(2)\n",
      "memory usage: 223.6+ KB\n"
     ]
    }
   ],
   "source": [
    "st3_train.info()"
   ]
  },
  {
   "cell_type": "code",
   "execution_count": 99,
   "metadata": {},
   "outputs": [
    {
     "name": "stdout",
     "output_type": "stream",
     "text": [
      "<class 'pandas.core.frame.DataFrame'>\n",
      "Index: 433 entries, 833042063 to 832917778\n",
      "Data columns (total 2 columns):\n",
      " #   Column  Non-Null Count  Dtype \n",
      "---  ------  --------------  ----- \n",
      " 0   text    433 non-null    object\n",
      " 1   frames  433 non-null    object\n",
      "dtypes: object(2)\n",
      "memory usage: 26.3+ KB\n"
     ]
    }
   ],
   "source": [
    "st2_train.info()"
   ]
  },
  {
   "cell_type": "code",
   "execution_count": 100,
   "metadata": {},
   "outputs": [],
   "source": [
    "# Reset index in both dataframes\n",
    "st3_train = st3_train.reset_index()\n",
    "st2_train = st2_train.reset_index()\n",
    "\n",
    "# Convert 'id' column in both dataframes to int\n",
    "st3_train['id'] = st3_train['id'].astype(int)\n",
    "st2_train['id'] = st2_train['id'].astype(int)\n",
    "\n",
    "# Now you can merge\n",
    "train = st3_train.merge(st2_train, how='inner', on='id')"
   ]
  },
  {
   "cell_type": "code",
   "execution_count": 101,
   "metadata": {},
   "outputs": [],
   "source": [
    "train = train.drop(columns=['id', \"line\", 'text_x', 'text_y'])"
   ]
  },
  {
   "cell_type": "code",
   "execution_count": 102,
   "metadata": {},
   "outputs": [
    {
     "data": {
      "text/html": [
       "<div>\n",
       "<style scoped>\n",
       "    .dataframe tbody tr th:only-of-type {\n",
       "        vertical-align: middle;\n",
       "    }\n",
       "\n",
       "    .dataframe tbody tr th {\n",
       "        vertical-align: top;\n",
       "    }\n",
       "\n",
       "    .dataframe thead th {\n",
       "        text-align: right;\n",
       "    }\n",
       "</style>\n",
       "<table border=\"1\" class=\"dataframe\">\n",
       "  <thead>\n",
       "    <tr style=\"text-align: right;\">\n",
       "      <th></th>\n",
       "      <th>labels</th>\n",
       "      <th>frames</th>\n",
       "    </tr>\n",
       "  </thead>\n",
       "  <tbody>\n",
       "    <tr>\n",
       "      <th>0</th>\n",
       "      <td>Doubt</td>\n",
       "      <td>Health_and_safety,Quality_of_life</td>\n",
       "    </tr>\n",
       "    <tr>\n",
       "      <th>1</th>\n",
       "      <td>Appeal_to_Authority</td>\n",
       "      <td>Health_and_safety,Quality_of_life</td>\n",
       "    </tr>\n",
       "    <tr>\n",
       "      <th>2</th>\n",
       "      <td>Repetition</td>\n",
       "      <td>Health_and_safety,Quality_of_life</td>\n",
       "    </tr>\n",
       "    <tr>\n",
       "      <th>3</th>\n",
       "      <td>Appeal_to_Fear-Prejudice</td>\n",
       "      <td>Health_and_safety,Quality_of_life</td>\n",
       "    </tr>\n",
       "    <tr>\n",
       "      <th>4</th>\n",
       "      <td>Appeal_to_Fear-Prejudice</td>\n",
       "      <td>Health_and_safety,Quality_of_life</td>\n",
       "    </tr>\n",
       "    <tr>\n",
       "      <th>...</th>\n",
       "      <td>...</td>\n",
       "      <td>...</td>\n",
       "    </tr>\n",
       "    <tr>\n",
       "      <th>3597</th>\n",
       "      <td>Exaggeration-Minimisation,Slogans</td>\n",
       "      <td>Morality,Fairness_and_equality,Legality_Consti...</td>\n",
       "    </tr>\n",
       "    <tr>\n",
       "      <th>3598</th>\n",
       "      <td>Exaggeration-Minimisation</td>\n",
       "      <td>Morality,Fairness_and_equality,Legality_Consti...</td>\n",
       "    </tr>\n",
       "    <tr>\n",
       "      <th>3599</th>\n",
       "      <td>Name_Calling-Labeling</td>\n",
       "      <td>Morality,Fairness_and_equality,Legality_Consti...</td>\n",
       "    </tr>\n",
       "    <tr>\n",
       "      <th>3600</th>\n",
       "      <td>Exaggeration-Minimisation,Name_Calling-Labeling</td>\n",
       "      <td>Morality,Fairness_and_equality,Legality_Consti...</td>\n",
       "    </tr>\n",
       "    <tr>\n",
       "      <th>3601</th>\n",
       "      <td>Exaggeration-Minimisation</td>\n",
       "      <td>Morality,Fairness_and_equality,Legality_Consti...</td>\n",
       "    </tr>\n",
       "  </tbody>\n",
       "</table>\n",
       "<p>3602 rows × 2 columns</p>\n",
       "</div>"
      ],
      "text/plain": [
       "                                               labels  \\\n",
       "0                                               Doubt   \n",
       "1                                 Appeal_to_Authority   \n",
       "2                                          Repetition   \n",
       "3                            Appeal_to_Fear-Prejudice   \n",
       "4                            Appeal_to_Fear-Prejudice   \n",
       "...                                               ...   \n",
       "3597                Exaggeration-Minimisation,Slogans   \n",
       "3598                        Exaggeration-Minimisation   \n",
       "3599                            Name_Calling-Labeling   \n",
       "3600  Exaggeration-Minimisation,Name_Calling-Labeling   \n",
       "3601                        Exaggeration-Minimisation   \n",
       "\n",
       "                                                 frames  \n",
       "0                     Health_and_safety,Quality_of_life  \n",
       "1                     Health_and_safety,Quality_of_life  \n",
       "2                     Health_and_safety,Quality_of_life  \n",
       "3                     Health_and_safety,Quality_of_life  \n",
       "4                     Health_and_safety,Quality_of_life  \n",
       "...                                                 ...  \n",
       "3597  Morality,Fairness_and_equality,Legality_Consti...  \n",
       "3598  Morality,Fairness_and_equality,Legality_Consti...  \n",
       "3599  Morality,Fairness_and_equality,Legality_Consti...  \n",
       "3600  Morality,Fairness_and_equality,Legality_Consti...  \n",
       "3601  Morality,Fairness_and_equality,Legality_Consti...  \n",
       "\n",
       "[3602 rows x 2 columns]"
      ]
     },
     "execution_count": 102,
     "metadata": {},
     "output_type": "execute_result"
    }
   ],
   "source": [
    "train"
   ]
  },
  {
   "cell_type": "code",
   "execution_count": 103,
   "metadata": {},
   "outputs": [
    {
     "name": "stdout",
     "output_type": "stream",
     "text": [
      "we have lost 179 rows\n",
      "we have 3602 rows in the merged dataframe\n"
     ]
    }
   ],
   "source": [
    "# let's figure out how many rows we have lost in the merge\n",
    "\n",
    "train_outer = st3_train.merge(st2_train, how='outer', on='id')\n",
    "\n",
    "print(f\"we have lost {train_outer.shape[0] - train.shape[0]} rows\")\n",
    "# there were some rows that were not present in both dataframes, so this is why we have a loss of data\n",
    "print(f\"we have {train.shape[0]} rows in the merged dataframe\")\n",
    "# considering we have 3602 rows in the merged dataframe, the loss in not significant and we have enough data to perform the chi squared test"
   ]
  },
  {
   "cell_type": "markdown",
   "metadata": {},
   "source": [
    "## Chi squared test"
   ]
  },
  {
   "cell_type": "code",
   "execution_count": 104,
   "metadata": {},
   "outputs": [],
   "source": [
    "import scipy.stats as stats\n",
    "\n",
    "# let's perform the chi squared test\n",
    "\n",
    "chi2, p, dof, ex = stats.chi2_contingency(pd.crosstab(train['labels'], train['frames']))"
   ]
  },
  {
   "cell_type": "code",
   "execution_count": 105,
   "metadata": {},
   "outputs": [
    {
     "name": "stdout",
     "output_type": "stream",
     "text": [
      "There is a significant relationship between the labels and the frames\n",
      "The values of the chi squared test are: chi2 = 90450.69645384239, p = 4.743877828064794e-132, dof = 80264\n"
     ]
    }
   ],
   "source": [
    "H0 = \"There is no significant relationship between the labels and the frames\"\n",
    "H1 = \"There is a significant relationship between the labels and the frames\"\n",
    "\n",
    "if p < 0.05:\n",
    "    print(H1)\n",
    "else:\n",
    "    print(H0)\n",
    "\n",
    "print(f\"The values of the chi squared test are: chi2 = {chi2}, p = {p}, dof = {dof}\")"
   ]
  },
  {
   "cell_type": "markdown",
   "metadata": {},
   "source": [
    "Above, we considered different combinations of labels as a unique label.\n",
    "Let's see what happens when we explode all the comma seperated labels into seperate rows.\n",
    "\n",
    "Example:\n",
    "\n",
    "Exaggeration-Minimisation,Slogans | Morality,Fairness_and_equality\n",
    "\n",
    "turns into:\n",
    "\n",
    "Exaggeration-Minimisation | Morality  \n",
    "Exaggeration-Minimisation | Fairness_and_equality  \n",
    "Slogans                   | Morality  \n",
    "Slogans                   | Fairness_and_equality  "
   ]
  },
  {
   "cell_type": "code",
   "execution_count": 106,
   "metadata": {},
   "outputs": [
    {
     "data": {
      "text/html": [
       "<div>\n",
       "<style scoped>\n",
       "    .dataframe tbody tr th:only-of-type {\n",
       "        vertical-align: middle;\n",
       "    }\n",
       "\n",
       "    .dataframe tbody tr th {\n",
       "        vertical-align: top;\n",
       "    }\n",
       "\n",
       "    .dataframe thead th {\n",
       "        text-align: right;\n",
       "    }\n",
       "</style>\n",
       "<table border=\"1\" class=\"dataframe\">\n",
       "  <thead>\n",
       "    <tr style=\"text-align: right;\">\n",
       "      <th></th>\n",
       "      <th>labels</th>\n",
       "      <th>frames</th>\n",
       "    </tr>\n",
       "  </thead>\n",
       "  <tbody>\n",
       "    <tr>\n",
       "      <th>0</th>\n",
       "      <td>Doubt</td>\n",
       "      <td>Health_and_safety</td>\n",
       "    </tr>\n",
       "    <tr>\n",
       "      <th>0</th>\n",
       "      <td>Doubt</td>\n",
       "      <td>Quality_of_life</td>\n",
       "    </tr>\n",
       "    <tr>\n",
       "      <th>1</th>\n",
       "      <td>Appeal_to_Authority</td>\n",
       "      <td>Health_and_safety</td>\n",
       "    </tr>\n",
       "    <tr>\n",
       "      <th>1</th>\n",
       "      <td>Appeal_to_Authority</td>\n",
       "      <td>Quality_of_life</td>\n",
       "    </tr>\n",
       "    <tr>\n",
       "      <th>2</th>\n",
       "      <td>Repetition</td>\n",
       "      <td>Health_and_safety</td>\n",
       "    </tr>\n",
       "    <tr>\n",
       "      <th>...</th>\n",
       "      <td>...</td>\n",
       "      <td>...</td>\n",
       "    </tr>\n",
       "    <tr>\n",
       "      <th>3600</th>\n",
       "      <td>Name_Calling-Labeling</td>\n",
       "      <td>Fairness_and_equality</td>\n",
       "    </tr>\n",
       "    <tr>\n",
       "      <th>3600</th>\n",
       "      <td>Name_Calling-Labeling</td>\n",
       "      <td>Legality_Constitutionality_and_jurisprudence</td>\n",
       "    </tr>\n",
       "    <tr>\n",
       "      <th>3601</th>\n",
       "      <td>Exaggeration-Minimisation</td>\n",
       "      <td>Morality</td>\n",
       "    </tr>\n",
       "    <tr>\n",
       "      <th>3601</th>\n",
       "      <td>Exaggeration-Minimisation</td>\n",
       "      <td>Fairness_and_equality</td>\n",
       "    </tr>\n",
       "    <tr>\n",
       "      <th>3601</th>\n",
       "      <td>Exaggeration-Minimisation</td>\n",
       "      <td>Legality_Constitutionality_and_jurisprudence</td>\n",
       "    </tr>\n",
       "  </tbody>\n",
       "</table>\n",
       "<p>21304 rows × 2 columns</p>\n",
       "</div>"
      ],
      "text/plain": [
       "                         labels                                        frames\n",
       "0                         Doubt                             Health_and_safety\n",
       "0                         Doubt                               Quality_of_life\n",
       "1           Appeal_to_Authority                             Health_and_safety\n",
       "1           Appeal_to_Authority                               Quality_of_life\n",
       "2                    Repetition                             Health_and_safety\n",
       "...                         ...                                           ...\n",
       "3600      Name_Calling-Labeling                         Fairness_and_equality\n",
       "3600      Name_Calling-Labeling  Legality_Constitutionality_and_jurisprudence\n",
       "3601  Exaggeration-Minimisation                                      Morality\n",
       "3601  Exaggeration-Minimisation                         Fairness_and_equality\n",
       "3601  Exaggeration-Minimisation  Legality_Constitutionality_and_jurisprudence\n",
       "\n",
       "[21304 rows x 2 columns]"
      ]
     },
     "execution_count": 106,
     "metadata": {},
     "output_type": "execute_result"
    }
   ],
   "source": [
    "train_exploded = train.copy()\n",
    "\n",
    "train_exploded['labels'] = train_exploded['labels'].str.split(',')\n",
    "train_exploded[\"frames\"] = train_exploded[\"frames\"].str.split(',')\n",
    "\n",
    "train_exploded = train_exploded.explode('labels')\n",
    "train_exploded = train_exploded.explode('frames')\n",
    "\n",
    "train_exploded"
   ]
  },
  {
   "cell_type": "markdown",
   "metadata": {},
   "source": [
    "Let's perform the chi squared test on the exploded dataset"
   ]
  },
  {
   "cell_type": "code",
   "execution_count": 107,
   "metadata": {},
   "outputs": [
    {
     "name": "stdout",
     "output_type": "stream",
     "text": [
      "There is a significant relationship between the labels and the frames\n",
      "The values of the chi squared test are: chi2 = 660.5448352645097, p = 2.5699618191412425e-42, dof = 234\n"
     ]
    }
   ],
   "source": [
    "chi2, p, dof, ex = stats.chi2_contingency(pd.crosstab(train_exploded['labels'], train_exploded['frames']))\n",
    "\n",
    "H0 = \"There is no significant relationship between the labels and the frames\"\n",
    "H1 = \"There is a significant relationship between the labels and the frames\"\n",
    "\n",
    "if p < 0.05:\n",
    "    print(H1)\n",
    "else:\n",
    "    print(H0)\n",
    "\n",
    "print(f\"The values of the chi squared test are: chi2 = {chi2}, p = {p}, dof = {dof}\")"
   ]
  },
  {
   "cell_type": "code",
   "execution_count": 109,
   "metadata": {},
   "outputs": [
    {
     "name": "stdout",
     "output_type": "stream",
     "text": [
      "1.13.0\n"
     ]
    }
   ],
   "source": [
    "import scipy\n",
    "print(scipy.__version__)"
   ]
  },
  {
   "cell_type": "markdown",
   "metadata": {},
   "source": [
    "By doing the chi squared test we have proven there is a significat relationship between the 2 sets of labels, thus making them a good candidate for trasnfer learning!"
   ]
  }
 ],
 "metadata": {
  "kernelspec": {
   "display_name": "tar-project",
   "language": "python",
   "name": "python3"
  },
  "language_info": {
   "codemirror_mode": {
    "name": "ipython",
    "version": 3
   },
   "file_extension": ".py",
   "mimetype": "text/x-python",
   "name": "python",
   "nbconvert_exporter": "python",
   "pygments_lexer": "ipython3",
   "version": "3.9.19"
  }
 },
 "nbformat": 4,
 "nbformat_minor": 2
}
